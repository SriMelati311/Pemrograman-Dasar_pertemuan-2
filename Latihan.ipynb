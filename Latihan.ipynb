{
  "nbformat": 4,
  "nbformat_minor": 0,
  "metadata": {
    "colab": {
      "provenance": [],
      "authorship_tag": "ABX9TyNriViDz0+z6/VX0s3Borpe",
      "include_colab_link": true
    },
    "kernelspec": {
      "name": "python3",
      "display_name": "Python 3"
    },
    "language_info": {
      "name": "python"
    }
  },
  "cells": [
    {
      "cell_type": "markdown",
      "metadata": {
        "id": "view-in-github",
        "colab_type": "text"
      },
      "source": [
        "<a href=\"https://colab.research.google.com/github/SriMelati311/Pemrograman-Dasar_pertemuan-2/blob/main/Latihan.ipynb\" target=\"_parent\"><img src=\"https://colab.research.google.com/assets/colab-badge.svg\" alt=\"Open In Colab\"/></a>"
      ]
    },
    {
      "cell_type": "code",
      "execution_count": null,
      "metadata": {
        "colab": {
          "base_uri": "https://localhost:8080/"
        },
        "id": "sHqDEUBVbFch",
        "outputId": "e98fe90b-e6d3-4930-f8a8-b3ca538715a9"
      },
      "outputs": [
        {
          "output_type": "stream",
          "name": "stdout",
          "text": [
            "===== Hasil Latihan 1 =====\n",
            "\n",
            "numbers (sebelum diubah)  : [23, 43, 15, 34]\n",
            "numbers (setelah diubah)  : [23, 43, 51, 52]\n",
            "numbers[0] : 23\n",
            "numbers[1] : 43\n",
            "numbers[2] : 51\n",
            "numbers[3] : 52\n"
          ]
        }
      ],
      "source": [
        "# Latihan 1\n",
        "\n",
        "# Deklarasi variabel list\n",
        "numbers = [23, 43, 15, 34]\n",
        "\n",
        "# Cara mengakses elementary dalam variabel list\n",
        "numbers[0] # 23\n",
        "numbers[1] # 43\n",
        "numbers[2] # 15\n",
        "numbers[3] # 34\n",
        "\n",
        "# Cara mengubah nilai elemen dalam variabel list\n",
        "numbers[2] = 51\n",
        "numbers[3] = 52\n",
        "\n",
        "# Lakukan untuk setiap indeksnya dan lihat hasilnya\n",
        "print(\"===== Hasil Latihan 1 =====\")\n",
        "print()\n",
        "print(\"numbers (sebelum diubah)  :\", [23, 43, 15, 34])\n",
        "print(\"numbers (setelah diubah)  :\", numbers)\n",
        "print(\"numbers[0] :\", numbers[0])\n",
        "print(\"numbers[1] :\", numbers[1])\n",
        "print(\"numbers[2] :\", numbers[2])\n",
        "print(\"numbers[3] :\", numbers[3])"
      ]
    },
    {
      "cell_type": "code",
      "source": [
        "# latihan 2\n",
        "\n",
        "# Deklarasi variabel list numbers\n",
        "numbers = [1, 2, 3]\n",
        "\n",
        "# Menambahkan elemen di indeks ke-3\n",
        "numbers.insert(3, 5) # [1, 2, 3, 5]  ===list.insert(indeks,valeu)===\n",
        "\n",
        "# Mengubah elemen di indeks ke-3\n",
        "numbers[3] = 4    # [1, 2, 3, 4]\n",
        "\n",
        "# Menghapus elemen di indeks ke-2\n",
        "numbers.pop(2)   # [1, 2, 4]\n",
        "\n",
        "# Print setiap hasil perubahan dan amati hasilnya\n",
        "print(\"===== Hasil Latihan 2 =====\")\n",
        "print()\n",
        "print(\"awalnya_numbers                             =\", [1, 2, 3])\n",
        "print(\"selelah_numbers.insert(4, 5), list menjadi  =\", [1, 2, 3, 5])\n",
        "    # Menambahkan elemen di indeks ke-3 dengan value 5\n",
        "\n",
        "print(\"lalu_numbers[3] = 4, list berubah jadi      =\", [1, 2, 3, 4])\n",
        "    # Mengubah indeks ke-3 menjadi value 4\n",
        "\n",
        "print(\"kemudian_numbers.pop(2), sehingga list jadi =\", [1, 2, 4])\n",
        "    # Menghapus elemen indeks ke-2\n",
        "\n",
        "print(\"akhirnya_numbers                            =\", numbers)"
      ],
      "metadata": {
        "colab": {
          "base_uri": "https://localhost:8080/"
        },
        "id": "ZbPip0qpbLXZ",
        "outputId": "1d17e187-87ec-4399-aa4c-f911b5eaea32"
      },
      "execution_count": null,
      "outputs": [
        {
          "output_type": "stream",
          "name": "stdout",
          "text": [
            "===== Hasil Latihan 2 =====\n",
            "\n",
            "awalnya_numbers                             = [1, 2, 3]\n",
            "selelah_numbers.insert(4, 5), list menjadi  = [1, 2, 3, 5]\n",
            "lalu_numbers[3] = 4, list berubah jadi      = [1, 2, 3, 4]\n",
            "kemudian_numbers.pop(2), sehingga list jadi = [1, 2, 4]\n",
            "akhirnya_numbers                            = [1, 2, 4]\n"
          ]
        }
      ]
    },
    {
      "cell_type": "code",
      "source": [
        "# Latihan 3\n",
        "\n",
        "# Deklarasi variabel list\n",
        "myList = [ 1,\"Rumah\", 4.5, True, [\"Kamar mandi\", \"Kamar tidur\"]]\n",
        "\n",
        "# Cara mengakses elemen dalam variabel list\n",
        "myList[0]  # 1\n",
        "myList[1]  # Rumah\n",
        "myList[3]  # True\n",
        "myList[4]  # [\"Kamar mandi\", \"Kamar tidur\"]\n",
        "\n",
        "# Cara mengakses elemen dalam sublist\n",
        "myList[4][0]  # \"Kamar mandi\"\n",
        "myList[4][1]  # \"kamar tidur\"\n",
        "\n",
        "# Lakukan print lalu amati hasilnya\n",
        "print(\"===== Hasil Latihan 3 =====\")\n",
        "print()\n",
        "    # note : indeksk python selalu dimulai dari 0, 1, 2, 3, ...\n",
        "print(\"myList       :\", myList)\n",
        "print(\"myList[0]    :\", myList[0])\n",
        "print(\"myList[1]    :\", myList[1])\n",
        "print(\"myList[3]    :\", myList[3])\n",
        "print(\"myList[4]    :\", myList[4])\n",
        "print(\"myList[4][0] :\", myList[4][0])\n",
        "print(\"myList[4][1] :\", myList[4][1])"
      ],
      "metadata": {
        "colab": {
          "base_uri": "https://localhost:8080/"
        },
        "id": "k_S6PBlfbS6_",
        "outputId": "2b55abaf-4e1b-4c92-9823-3bcfec3ac183"
      },
      "execution_count": null,
      "outputs": [
        {
          "output_type": "stream",
          "name": "stdout",
          "text": [
            "===== Hasil Latihan 3 =====\n",
            "\n",
            "myList       : [1, 'Rumah', 4.5, True, ['Kamar mandi', 'Kamar tidur']]\n",
            "myList[0]    : 1\n",
            "myList[1]    : Rumah\n",
            "myList[3]    : True\n",
            "myList[4]    : ['Kamar mandi', 'Kamar tidur']\n",
            "myList[4][0] : Kamar mandi\n",
            "myList[4][1] : Kamar tidur\n"
          ]
        }
      ]
    },
    {
      "cell_type": "code",
      "source": [
        "# Latihan 4\n",
        "\n",
        "# Deklarasi variabel tuple\n",
        "numbers = [23, 43, 15, 34]\n",
        "    # Variabel = [0, 1, 2, 3,]\n",
        "    # === note : indeksk python selalu dimulai dari 0, 1, 2, 3, ... ===\n",
        "\n",
        "# Cara mengakses elemen dalam variabel tuple\n",
        "numbers[0] # 23\n",
        "numbers[1] # 43\n",
        "numbers[2] # 15\n",
        "numbers[3] # 34\n",
        "\n",
        "# Lakukan print lalu amati hasilnya\n",
        "print(\"===== Hasil Latihan 4 =====\")\n",
        "print()\n",
        "print(\"numbers    :\", numbers)\n",
        "print(\"numbers[0] :\", numbers[0])\n",
        "print(\"numbers[1] :\", numbers[1])\n",
        "print(\"numbers[2] :\", numbers[2])\n",
        "print(\"numbers[3] :\", numbers[3])"
      ],
      "metadata": {
        "colab": {
          "base_uri": "https://localhost:8080/"
        },
        "id": "O__vhkHLbfJV",
        "outputId": "f8899571-a0c3-4af9-a071-a867fe5c6a0f"
      },
      "execution_count": null,
      "outputs": [
        {
          "output_type": "stream",
          "name": "stdout",
          "text": [
            "===== Hasil Latihan 4 =====\n",
            "\n",
            "numbers    : [23, 43, 15, 34]\n",
            "numbers[0] : 23\n",
            "numbers[1] : 43\n",
            "numbers[2] : 15\n",
            "numbers[3] : 34\n"
          ]
        }
      ]
    },
    {
      "cell_type": "code",
      "source": [
        "# Latihan 5\n",
        "\n",
        "# Deklarasi variabel set a dan b\n",
        "a = {1, 2, 3}\n",
        "b = {2, 3, 4}\n",
        "\n",
        "# Operasi gabungan\n",
        "a.union(b)  # {1, 2, 3, 4} ===variabel1.union(variabel2)\n",
        "\n",
        "# Operasi irisan\n",
        "a.intersection(b)  # {2, 3}\n",
        "\n",
        "# Operasi selisih\n",
        "a.symmetric_difference(b)  # {1, 4}\n",
        "\n",
        "# Lakukan print dan liat hasilnya\n",
        "print(\"===== Hasil Latihan 5 =====\")\n",
        "print()\n",
        "print(\"a                         :\", a)\n",
        "print(\"b                         :\", b)\n",
        "print(\"a.union(b)                :\", a.union(b))\n",
        "    # Karena dalam bentuk 'set' maka value tidak boleh duplikat\n",
        "\n",
        "print(\"a.intersection(b)         :\", a.intersection(b))\n",
        "    # Hanya berisi value yang duplikat dari variabel a dan b\n",
        "\n",
        "print(\"a.symmetric_difference(b) :\", a.symmetric_difference(b))\n",
        "    # Hanya berisi value yang tidak duplikat dari variabel a dan b"
      ],
      "metadata": {
        "colab": {
          "base_uri": "https://localhost:8080/"
        },
        "id": "pqbg8Yzhbk-X",
        "outputId": "d3cc2f79-d0e9-40b6-8a46-4ec80ac4cd6b"
      },
      "execution_count": null,
      "outputs": [
        {
          "output_type": "stream",
          "name": "stdout",
          "text": [
            "===== Hasil Latihan 5 =====\n",
            "\n",
            "a                         : {1, 2, 3}\n",
            "b                         : {2, 3, 4}\n",
            "a.union(b)                : {1, 2, 3, 4}\n",
            "a.intersection(b)         : {2, 3}\n",
            "a.symmetric_difference(b) : {1, 4}\n"
          ]
        }
      ]
    },
    {
      "cell_type": "code",
      "source": [
        "# Latihan 6\n",
        "\n",
        "# Deklarasi variabel dictionary\n",
        "propertyDetail = {\"numFloors\":1, \"propertyType\": \"Rumah\",\n",
        "                  \"hasTerrace\": True, \"hasGarage\": False}\n",
        "\n",
        "# Cara mengakses elemen dalam variabel dictionary\n",
        "propertyDetail[\"numFloors\"]      # 1\n",
        "propertyDetail[\"propertyType\"]   # \"Rumah\"\n",
        "propertyDetail[\"hasTerrace\"]     # True\n",
        "propertyDetail[\"hasGarage\"]      # False\n",
        "\n",
        "# Cara mengubah nilai elemen dalam variabel dictionary\n",
        "propertyDetail[\"hasTerrace\"] = False\n",
        "\n",
        "# Lakukan print lalu amati hasilnya\n",
        "print(\"===== Hasil Latihan 6 =====\")\n",
        "print()\n",
        "print(\"propertyDetail :\", propertyDetail)\n",
        "print(\"numFloors      :\", propertyDetail[\"numFloors\"])\n",
        "print(\"propertyType   :\", propertyDetail[\"propertyType\"])\n",
        "print(\"hasTerrace     :\", propertyDetail[\"hasTerrace\"])\n",
        "      # propertyDetail[\"hasTerrace\"] yang awalnya true diubah menjadi false\n",
        "print(\"hasGarage      :\", propertyDetail[\"hasGarage\"])"
      ],
      "metadata": {
        "colab": {
          "base_uri": "https://localhost:8080/"
        },
        "id": "_bKNIUw_bo1A",
        "outputId": "f0d3b7fe-1ec0-4c75-ff1d-acab87c2cae5"
      },
      "execution_count": null,
      "outputs": [
        {
          "output_type": "stream",
          "name": "stdout",
          "text": [
            "===== Hasil Latihan 6 =====\n",
            "\n",
            "propertyDetail : {'numFloors': 1, 'propertyType': 'Rumah', 'hasTerrace': False, 'hasGarage': False}\n",
            "numFloors      : 1\n",
            "propertyType   : Rumah\n",
            "hasTerrace     : False\n",
            "hasGarage      : False\n"
          ]
        }
      ]
    }
  ]
}