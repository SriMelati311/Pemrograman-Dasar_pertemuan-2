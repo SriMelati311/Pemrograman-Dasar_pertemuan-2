{
  "nbformat": 4,
  "nbformat_minor": 0,
  "metadata": {
    "colab": {
      "provenance": [],
      "authorship_tag": "ABX9TyOy1J20lcuXTLwFWQTwBqyb",
      "include_colab_link": true
    },
    "kernelspec": {
      "name": "python3",
      "display_name": "Python 3"
    },
    "language_info": {
      "name": "python"
    }
  },
  "cells": [
    {
      "cell_type": "markdown",
      "metadata": {
        "id": "view-in-github",
        "colab_type": "text"
      },
      "source": [
        "<a href=\"https://colab.research.google.com/github/SriMelati311/Pemrograman-Dasar_pertemuan-2/blob/main/Tugas.ipynb\" target=\"_parent\"><img src=\"https://colab.research.google.com/assets/colab-badge.svg\" alt=\"Open In Colab\"/></a>"
      ]
    },
    {
      "cell_type": "code",
      "execution_count": null,
      "metadata": {
        "colab": {
          "base_uri": "https://localhost:8080/"
        },
        "id": "-PcTLLrXcpL8",
        "outputId": "b8a5d12f-16dc-4c82-99e2-bfff08b5f8c3"
      },
      "outputs": [
        {
          "output_type": "stream",
          "name": "stdout",
          "text": [
            "First Name  : Sri\n",
            "Last Name   : Melati\n",
            "Age         : 20\n",
            "Married     : False\n"
          ]
        }
      ],
      "source": [
        "# Tugas 1\n",
        "\n",
        "firstName: str = \"Sri\"\n",
        "lastName: str = \"Melati\"\n",
        "age: int = 20\n",
        "isMarried: bool = False\n",
        "\n",
        "print(\"First Name  :\", firstName)\n",
        "print(\"Last Name   :\", lastName)\n",
        "print(\"Age         :\", age)\n",
        "print(\"Married     :\", isMarried)"
      ]
    },
    {
      "cell_type": "code",
      "source": [
        "# Tugas 2\n",
        "\n",
        "identitas = {\"firstName\": \"Sri\", \"lastname\": \"Melati\", \"age\": 20, \"isMarried\": False}\n",
        "          # firsName, lastName, age, isMarried\n",
        "\n",
        "data_diri: dict[str, int, bool] = {\n",
        "    \"firstName\": \"Sri\",\n",
        "    \"lastName\": \"Melati\",\n",
        "    \"age\": 20,\n",
        "    \"isMarried\": False\n",
        "}\n",
        "\n",
        "print(\"===== Data Diri =====\")\n",
        "print(\"Nama depan        :\", data_diri[\"firstName\"])\n",
        "print(\"Nama belakang     :\", data_diri[\"lastName\"])\n",
        "print(\"Umur              :\", data_diri[\"age\"])\n",
        "print(\"Status Pernikahan :\", data_diri[\"isMarried\"])"
      ],
      "metadata": {
        "colab": {
          "base_uri": "https://localhost:8080/"
        },
        "id": "s2PEQ9mfc4Xx",
        "outputId": "0ca6f773-e3be-4d5e-b06f-406544c43ed1"
      },
      "execution_count": null,
      "outputs": [
        {
          "output_type": "stream",
          "name": "stdout",
          "text": [
            "===== Data Diri =====\n",
            "Nama depan        : Sri\n",
            "Nama belakang     : Melati\n",
            "Umur              : 20\n",
            "Status Pernikahan : False\n"
          ]
        }
      ]
    },
    {
      "cell_type": "code",
      "source": [
        "#Tugas 3\n",
        "\n",
        "# Deklarasi variabel list untuk menyimpan data inspeksi\n",
        "inspeksi_datalist = [\n",
        "    \"Pemahaman terhadap rencana dan desain\",\n",
        "    \"Ketersediaan bahan dan peralatan\",\n",
        "    \"Pengawasan pekerjaan\",\n",
        "    \"Kualitas konstruksi\",\n",
        "    \"Keselamatan kerja\",\n",
        "    \"Koordinasi dengan pemilik proyek\"\n",
        "]\n",
        "\n",
        "# Menampilkan hasil\n",
        "print(\"Data inspeksi:\")\n",
        "for item in inspeksi_datalist:\n",
        "    print(\"-\", item)"
      ],
      "metadata": {
        "colab": {
          "base_uri": "https://localhost:8080/"
        },
        "id": "iF-8ka0Ec9mB",
        "outputId": "c7e98fad-42c2-477b-9ddd-9ccb94b6da73"
      },
      "execution_count": null,
      "outputs": [
        {
          "output_type": "stream",
          "name": "stdout",
          "text": [
            "Data inspeksi:\n",
            "- Pemahaman terhadap rencana dan desain\n",
            "- Ketersediaan bahan dan peralatan\n",
            "- Pengawasan pekerjaan\n",
            "- Kualitas konstruksi\n",
            "- Keselamatan kerja\n",
            "- Koordinasi dengan pemilik proyek\n"
          ]
        }
      ]
    },
    {
      "cell_type": "code",
      "source": [
        "# Tugas 4\n",
        "\n",
        "# Variabel startTime sebagai waktu datang\n",
        "startTime = {\n",
        "    \"HH\": 9,\n",
        "    \"mm\": 23,\n",
        "    \"ss\": 57\n",
        "}\n",
        "\n",
        "# Variabel endTime sebagai waktu pulang\n",
        "endTime = {\n",
        "    \"HH\": 15,\n",
        "    \"mm\": 25,\n",
        "    \"ss\": 43\n",
        "}\n",
        "\n",
        "# Menampilkan hasil\n",
        "print(\"Start Time =\", startTime [\"HH\"],\":\",startTime[\"mm\"],\":\",startTime[\"ss\"])\n",
        "print(\"End Time =\", endTime [\"HH\"], \":\", endTime[\"mm\"], \":\", endTime[\"ss\"])"
      ],
      "metadata": {
        "colab": {
          "base_uri": "https://localhost:8080/"
        },
        "id": "H_6sgh7ddCvy",
        "outputId": "3f12f58e-d63c-415e-cc79-4f065e788963"
      },
      "execution_count": null,
      "outputs": [
        {
          "output_type": "stream",
          "name": "stdout",
          "text": [
            "Start Time = 9 : 23 : 57\n",
            "End Time = 15 : 25 : 43\n"
          ]
        }
      ]
    },
    {
      "cell_type": "code",
      "source": [
        "# Tugas 5\n",
        "\n",
        "# katalog produk dari dua pemasok (set → data unik, tidak ada duplikat)\n",
        "katalog_A = {\"Laptop\", \"Mouse\", \"Keyboard\", \"Monitor\"}\n",
        "katalog_B = {\"Monitor\", \"Printer\", \"Mouse\", \"Tablet\"}\n",
        "\n",
        "# daftar produk yang sedang diskon (tuple → data terurut & bisa berisi duplikat)\n",
        "produk_diskon = (\"Mouse\", \"Tablet\", \"Charger\")\n",
        "\n",
        "# 1. Gabungkan katalog_A dan katalog_B menjadi satu set\n",
        "katalog_lengkap = katalog_A.union(katalog_B)\n",
        "\n",
        "# 2. Cari produk dari katalog_lengkap yang juga ada di produk_diskon\n",
        "#    Harus diubah dulu produk_diskon (tuple) → set supaya bisa pakai intersection\n",
        "produk_promo_aktif = katalog_lengkap.intersection(set(produk_diskon))\n",
        "\n",
        "# Cetak hasilnya\n",
        "print(\"Produk Diskon       :\", produk_diskon)\n",
        "print(\"Katalog Lengkap     :\", katalog_lengkap)\n",
        "print(\"Produk Promo Aktif  :\", produk_promo_aktif)"
      ],
      "metadata": {
        "id": "WWf55z9ldnHi",
        "outputId": "29ce5f7c-219c-4f16-9bd2-6d0e535ee73f",
        "colab": {
          "base_uri": "https://localhost:8080/"
        }
      },
      "execution_count": 2,
      "outputs": [
        {
          "output_type": "stream",
          "name": "stdout",
          "text": [
            "Produk Diskon       : ('Mouse', 'Tablet', 'Charger')\n",
            "Katalog Lengkap     : {'Laptop', 'Printer', 'Keyboard', 'Monitor', 'Mouse', 'Tablet'}\n",
            "Produk Promo Aktif  : {'Mouse', 'Tablet'}\n"
          ]
        }
      ]
    },
    {
      "cell_type": "code",
      "source": [],
      "metadata": {
        "id": "aUbkiMTGTSVX"
      },
      "execution_count": null,
      "outputs": []
    }
  ]
}